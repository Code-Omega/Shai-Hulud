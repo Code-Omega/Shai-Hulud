{
 "cells": [
  {
   "cell_type": "markdown",
   "metadata": {
    "deletable": true,
    "editable": true
   },
   "source": [
    "# Worm Communication"
   ]
  },
  {
   "cell_type": "code",
   "execution_count": 1,
   "metadata": {
    "collapsed": false,
    "deletable": true,
    "editable": true
   },
   "outputs": [],
   "source": [
    "import serial\n",
    "import ipywidgets\n",
    "import threading\n",
    "from ipywidgets import widgets\n",
    "import time \n",
    "from IPython.display import display"
   ]
  },
  {
   "cell_type": "markdown",
   "metadata": {
    "deletable": true,
    "editable": true
   },
   "source": [
    "#### Serial communication "
   ]
  },
  {
   "cell_type": "code",
   "execution_count": 2,
   "metadata": {
    "collapsed": false,
    "deletable": true,
    "editable": true
   },
   "outputs": [],
   "source": [
    "baudrate = 9600 # default, might need to adjust\n",
    "serial_port = '/dev/tty.HC-06-DevB' # connect to the new hc-06 board\n",
    "ser = serial.Serial(serial_port, baudrate, timeout=1) # open connection"
   ]
  },
  {
   "cell_type": "markdown",
   "metadata": {
    "deletable": true,
    "editable": true
   },
   "source": [
    "#### Interface"
   ]
  },
  {
   "cell_type": "code",
   "execution_count": 3,
   "metadata": {
    "collapsed": false,
    "deletable": true,
    "editable": true
   },
   "outputs": [],
   "source": [
    "button = widgets.Button(description = \"Ho\")\n",
    "\n",
    "def clicked(a):\n",
    "    ser.write(\"X\".encode())\n",
    "    \n",
    "\n",
    "console_style = \"style=\\\"width: 500px; color: steelblue; border-left: 6px solid darkslateblue; background-color: lightblue;\\\"\"\n",
    "output = widgets.HTML(\n",
    "    value=\"<dir \"+console_style+\"> empty </dir>\",\n",
    "    placeholder='Empty',\n",
    "    description='Console:',\n",
    "    disabled=True\n",
    ")\n",
    "\n",
    "command = widgets.Text(\n",
    "    value='',\n",
    "    placeholder='Enter command',\n",
    "    description='Command:',\n",
    "    disabled=False\n",
    ")\n",
    "\n",
    "def on_command_change(change):\n",
    "    if (command.value != ''):\n",
    "        ser.write(command.value.encode())\n",
    "    command.value = ''\n",
    "\n",
    "orientation = widgets.SelectionSlider(\n",
    "    options=['forward', 'idle', 'backward'],\n",
    "    value='idle',\n",
    "    description='Orientation',\n",
    "    disabled=False,\n",
    "    continuous_update=False,\n",
    "    orientation='horizontal',\n",
    "    readout=True\n",
    ")\n",
    "\n",
    "direction = widgets.SelectionSlider(\n",
    "    options=['left', 'neutral', 'right'],\n",
    "    value='neutral',\n",
    "    description='direction',\n",
    "    disabled=False,\n",
    "    continuous_update=False,\n",
    "    orientation='horizontal',\n",
    "    readout=True\n",
    ")\n",
    "\n",
    "def on_orientation_change(change):\n",
    "    #if (command.value != ''):\n",
    "    if (orientation.value == \"forward\"):\n",
    "        ser.write(\"f\".encode())\n",
    "    elif (orientation.value == \"backward\"):\n",
    "        ser.write(\"b\".encode())\n",
    "    else:\n",
    "        ser.write(\"n\".encode())\n",
    "    \n",
    "def on_direction_change(change):\n",
    "    #if (command.value != ''):\n",
    "    if (direction.value == \"left\"):\n",
    "        ser.write(\"l\".encode())\n",
    "    elif (direction.value == \"right\"):\n",
    "        ser.write(\"r\".encode())\n",
    "    else:\n",
    "        ser.write(\"m\".encode())"
   ]
  },
  {
   "cell_type": "markdown",
   "metadata": {
    "deletable": true,
    "editable": true
   },
   "source": [
    "#### Receiving from worm"
   ]
  },
  {
   "cell_type": "code",
   "execution_count": 4,
   "metadata": {
    "collapsed": false,
    "deletable": true,
    "editable": true
   },
   "outputs": [],
   "source": [
    "def handle_data(data, text_list):\n",
    "    # print(data)\n",
    "    text_list = text_list[1:]+[time.strftime(\"%Y-%m-%d %H:%M:%S\", time.gmtime())+\"|||\"+data]\n",
    "    display_text = \"\"\n",
    "    for x in text_list:\n",
    "        display_text += x + \"<br>\"\n",
    "    output.value = \"<dir \"+console_style+\">\" + display_text + \"</dir>\"\n",
    "    return text_list\n",
    "\n",
    "def read_from_port(ser):\n",
    "    text_list = [\"-\\n\",\"-\\n\",\"-\\n\",\"-\\n\",\"-\\n\"]\n",
    "    while True:\n",
    "        reading = ser.readline().decode()\n",
    "        text_list = handle_data(reading, text_list)"
   ]
  },
  {
   "cell_type": "markdown",
   "metadata": {
    "deletable": true,
    "editable": true
   },
   "source": [
    "### Start receiving thread; Display interface"
   ]
  },
  {
   "cell_type": "code",
   "execution_count": 5,
   "metadata": {
    "collapsed": false,
    "deletable": true,
    "editable": true
   },
   "outputs": [],
   "source": [
    "thread = threading.Thread(target=read_from_port, args=(ser,))\n",
    "thread.start()"
   ]
  },
  {
   "cell_type": "code",
   "execution_count": 6,
   "metadata": {
    "collapsed": false,
    "deletable": true,
    "editable": true
   },
   "outputs": [
    {
     "data": {
      "application/vnd.jupyter.widget-view+json": {
       "model_id": "05158af937954fa4bde49c64a0807665"
      }
     },
     "metadata": {},
     "output_type": "display_data"
    },
    {
     "data": {
      "application/vnd.jupyter.widget-view+json": {
       "model_id": "619bc57646ac4883a417e97696675a46"
      }
     },
     "metadata": {},
     "output_type": "display_data"
    },
    {
     "data": {
      "application/vnd.jupyter.widget-view+json": {
       "model_id": "adfff39ff30c4db8a36124ea7064bfb6"
      }
     },
     "metadata": {},
     "output_type": "display_data"
    },
    {
     "data": {
      "application/vnd.jupyter.widget-view+json": {
       "model_id": "fc4b0e74dcaa460da208361a27af8634"
      }
     },
     "metadata": {},
     "output_type": "display_data"
    },
    {
     "data": {
      "application/vnd.jupyter.widget-view+json": {
       "model_id": "4fcbf00006dc4b23a27d6a24826b4e31"
      }
     },
     "metadata": {},
     "output_type": "display_data"
    }
   ],
   "source": [
    "display(button)\n",
    "display(orientation)\n",
    "display(direction)\n",
    "display(command)\n",
    "display(output)\n",
    "#button.on_click(clicked)\n",
    "command.observe(on_command_change, names='value')\n",
    "orientation.observe(on_orientation_change, names='value')\n",
    "direction.observe(on_direction_change, names='value')"
   ]
  },
  {
   "cell_type": "code",
   "execution_count": null,
   "metadata": {
    "collapsed": true,
    "deletable": true,
    "editable": true
   },
   "outputs": [],
   "source": []
  }
 ],
 "metadata": {
  "kernelspec": {
   "display_name": "Python 3",
   "language": "python",
   "name": "python3"
  },
  "language_info": {
   "codemirror_mode": {
    "name": "ipython",
    "version": 3
   },
   "file_extension": ".py",
   "mimetype": "text/x-python",
   "name": "python",
   "nbconvert_exporter": "python",
   "pygments_lexer": "ipython3",
   "version": "3.6.0"
  }
 },
 "nbformat": 4,
 "nbformat_minor": 2
}
