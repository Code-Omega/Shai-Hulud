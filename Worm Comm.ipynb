{
 "cells": [
  {
   "cell_type": "markdown",
   "metadata": {
    "deletable": true,
    "editable": true
   },
   "source": [
    "# Worm Communication"
   ]
  },
  {
   "cell_type": "code",
   "execution_count": 1,
   "metadata": {
    "collapsed": false,
    "deletable": true,
    "editable": true
   },
   "outputs": [],
   "source": [
    "import serial\n",
    "import ipywidgets\n",
    "import threading\n",
    "from ipywidgets import widgets\n",
    "import time \n",
    "from IPython.display import display"
   ]
  },
  {
   "cell_type": "markdown",
   "metadata": {
    "deletable": true,
    "editable": true
   },
   "source": [
    "#### Serial communication "
   ]
  },
  {
   "cell_type": "code",
   "execution_count": 2,
   "metadata": {
    "collapsed": false,
    "deletable": true,
    "editable": true
   },
   "outputs": [],
   "source": [
    "baudrate = 9600 # default, might need to adjust\n",
    "serial_port = '/dev/tty.HC-06-DevB-1' # connect to the new hc-06 board\n",
    "ser = serial.Serial(serial_port, baudrate, timeout=1) # open connection"
   ]
  },
  {
   "cell_type": "markdown",
   "metadata": {
    "deletable": true,
    "editable": true
   },
   "source": [
    "#### Receiving from worm"
   ]
  },
  {
   "cell_type": "code",
   "execution_count": 3,
   "metadata": {
    "collapsed": false,
    "deletable": true,
    "editable": true
   },
   "outputs": [],
   "source": [
    "def handle_data(data, text_list):\n",
    "    # print(data)\n",
    "    text_list = text_list[1:]+[time.strftime(\"%Y-%m-%d %H:%M:%S\", time.gmtime())+\"|||\"+data]\n",
    "    display_text = \"\"\n",
    "    for x in text_list:\n",
    "        display_text += x + \"<br>\"\n",
    "    output.value = display_text\n",
    "    return text_list\n",
    "\n",
    "def read_from_port(ser):\n",
    "    text_list = [\"1\\n\",\"1\\n\",\"1\\n\",\"1\\n\",\"1\\n\"]\n",
    "    while True:\n",
    "        reading = ser.readline().decode()\n",
    "        text_list = handle_data(reading, text_list)"
   ]
  },
  {
   "cell_type": "markdown",
   "metadata": {
    "deletable": true,
    "editable": true
   },
   "source": [
    "#### Interface"
   ]
  },
  {
   "cell_type": "code",
   "execution_count": 4,
   "metadata": {
    "collapsed": false,
    "deletable": true,
    "editable": true
   },
   "outputs": [],
   "source": [
    "button = widgets.Button(description = \"Ho\")\n",
    "\n",
    "def clicked(a):\n",
    "    ser.write(\"X\".encode())\n",
    "\n",
    "output = widgets.HTML(\n",
    "    value='',\n",
    "    placeholder='Empty',\n",
    "    description='Console:',\n",
    "    disabled=True\n",
    ")\n",
    "\n",
    "command = widgets.Text(\n",
    "    value='',\n",
    "    placeholder='Enter command',\n",
    "    description='Command:',\n",
    "    disabled=False\n",
    ")\n",
    "\n",
    "def on_change(change):\n",
    "    if (command.value != ''):\n",
    "        ser.write(command.value.encode())\n",
    "    command.value = ''"
   ]
  },
  {
   "cell_type": "markdown",
   "metadata": {
    "deletable": true,
    "editable": true
   },
   "source": [
    "### Start receiving thread; Display interface"
   ]
  },
  {
   "cell_type": "code",
   "execution_count": 5,
   "metadata": {
    "collapsed": false,
    "deletable": true,
    "editable": true
   },
   "outputs": [],
   "source": [
    "thread = threading.Thread(target=read_from_port, args=(ser,))\n",
    "thread.start()"
   ]
  },
  {
   "cell_type": "code",
   "execution_count": 6,
   "metadata": {
    "collapsed": false,
    "deletable": true,
    "editable": true
   },
   "outputs": [
    {
     "data": {
      "application/vnd.jupyter.widget-view+json": {
       "model_id": "48ca34bc7c47427fab5094742eac11d8"
      }
     },
     "metadata": {},
     "output_type": "display_data"
    },
    {
     "data": {
      "application/vnd.jupyter.widget-view+json": {
       "model_id": "e923b9fde3c148859eddabe236df60d9"
      }
     },
     "metadata": {},
     "output_type": "display_data"
    },
    {
     "data": {
      "application/vnd.jupyter.widget-view+json": {
       "model_id": "53c6aaa32f1d4cd6b7cd7e6c589b11a9"
      }
     },
     "metadata": {},
     "output_type": "display_data"
    },
    {
     "name": "stderr",
     "output_type": "stream",
     "text": [
      "Exception in thread Thread-4:\n",
      "Traceback (most recent call last):\n",
      "  File \"/Users/Clue/anaconda/envs/Design/lib/python3.5/site-packages/serial/serialposix.py\", line 475, in read\n",
      "    raise SerialException('device reports readiness to read but returned no data (device disconnected or multiple access on port?)')\n",
      "serial.serialutil.SerialException: device reports readiness to read but returned no data (device disconnected or multiple access on port?)\n",
      "\n",
      "During handling of the above exception, another exception occurred:\n",
      "\n",
      "Traceback (most recent call last):\n",
      "  File \"/Users/Clue/anaconda/envs/Design/lib/python3.5/threading.py\", line 914, in _bootstrap_inner\n",
      "    self.run()\n",
      "  File \"/Users/Clue/anaconda/envs/Design/lib/python3.5/threading.py\", line 862, in run\n",
      "    self._target(*self._args, **self._kwargs)\n",
      "  File \"<ipython-input-3-976976bfd75c>\", line 13, in read_from_port\n",
      "    reading = ser.readline().decode()\n",
      "  File \"/Users/Clue/anaconda/envs/Design/lib/python3.5/site-packages/serial/serialposix.py\", line 480, in read\n",
      "    if e[0] != errno.EAGAIN:\n",
      "TypeError: 'SerialException' object does not support indexing\n",
      "\n"
     ]
    }
   ],
   "source": [
    "display(button)\n",
    "display(output)\n",
    "display(command)\n",
    "#button.on_click(clicked)\n",
    "command.observe(on_change, names='value')"
   ]
  },
  {
   "cell_type": "code",
   "execution_count": null,
   "metadata": {
    "collapsed": true,
    "deletable": true,
    "editable": true
   },
   "outputs": [],
   "source": []
  }
 ],
 "metadata": {
  "kernelspec": {
   "display_name": "Python 3",
   "language": "python",
   "name": "python3"
  },
  "language_info": {
   "codemirror_mode": {
    "name": "ipython",
    "version": 3
   },
   "file_extension": ".py",
   "mimetype": "text/x-python",
   "name": "python",
   "nbconvert_exporter": "python",
   "pygments_lexer": "ipython3",
   "version": "3.5.2"
  }
 },
 "nbformat": 4,
 "nbformat_minor": 2
}
