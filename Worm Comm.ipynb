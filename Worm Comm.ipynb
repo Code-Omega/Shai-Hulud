{
 "cells": [
  {
   "cell_type": "markdown",
   "metadata": {
    "deletable": true,
    "editable": true
   },
   "source": [
    "# Worm Communication"
   ]
  },
  {
   "cell_type": "markdown",
   "metadata": {
    "deletable": true,
    "editable": true
   },
   "source": [
    "#### Config"
   ]
  },
  {
   "cell_type": "code",
   "execution_count": 1,
   "metadata": {
    "collapsed": true,
    "deletable": true,
    "editable": true
   },
   "outputs": [],
   "source": [
    "will_connect = True"
   ]
  },
  {
   "cell_type": "markdown",
   "metadata": {
    "deletable": true,
    "editable": true
   },
   "source": [
    "## Setup Interface"
   ]
  },
  {
   "cell_type": "markdown",
   "metadata": {
    "deletable": true,
    "editable": true
   },
   "source": [
    "#### Imports"
   ]
  },
  {
   "cell_type": "code",
   "execution_count": 2,
   "metadata": {
    "collapsed": false,
    "deletable": true,
    "editable": true
   },
   "outputs": [],
   "source": [
    "import serial\n",
    "import ipywidgets\n",
    "import threading\n",
    "from ipywidgets import widgets\n",
    "import time \n",
    "from IPython.display import display"
   ]
  },
  {
   "cell_type": "markdown",
   "metadata": {
    "deletable": true,
    "editable": true
   },
   "source": [
    "#### Interface (variables)"
   ]
  },
  {
   "cell_type": "code",
   "execution_count": 3,
   "metadata": {
    "collapsed": true,
    "deletable": true,
    "editable": true
   },
   "outputs": [],
   "source": [
    "tThresh = 10.0 # time threshold for holding direction (seconds)\n",
    "direction_enum = [0,0] # 1 if is turning [left,right]"
   ]
  },
  {
   "cell_type": "markdown",
   "metadata": {
    "deletable": true,
    "editable": true
   },
   "source": [
    "#### Interface - main"
   ]
  },
  {
   "cell_type": "code",
   "execution_count": 4,
   "metadata": {
    "collapsed": false,
    "deletable": true,
    "editable": true
   },
   "outputs": [],
   "source": [
    "red_button = widgets.Button(\n",
    "    description = \"Shut Down\",\n",
    "    button_style='danger'\n",
    ")    \n",
    "\n",
    "send_button = widgets.Button(\n",
    "    description = \"Send Command\",\n",
    "    button_style='success'\n",
    ")  \n",
    "\n",
    "console_style = \"style=\\\"width: 500px; color: steelblue; border-left: 6px solid darkslateblue; background-color: lightblue;\\\"\"\n",
    "output = widgets.HTML(\n",
    "    value=\"<dir \"+console_style+\"> empty </dir>\",\n",
    "    placeholder='Empty',\n",
    "    description='',\n",
    "    layout=ipywidgets.Layout(\n",
    "        display='flex',\n",
    "        width='100%'),\n",
    "    disabled=True\n",
    ")\n",
    "\n",
    "command = widgets.Text(\n",
    "    value='',\n",
    "    placeholder='Enter command',\n",
    "    description='',\n",
    "    layout=ipywidgets.Layout(\n",
    "        display='flex',\n",
    "        width='80%'),\n",
    "    disabled=False\n",
    ")"
   ]
  },
  {
   "cell_type": "markdown",
   "metadata": {
    "deletable": true,
    "editable": true
   },
   "source": [
    "#### Interface - Actuation"
   ]
  },
  {
   "cell_type": "code",
   "execution_count": 5,
   "metadata": {
    "collapsed": true,
    "deletable": true,
    "editable": true
   },
   "outputs": [],
   "source": [
    "orientation = widgets.SelectionSlider(\n",
    "    options=['backward', 'paused', 'forward'],\n",
    "    value='paused',\n",
    "    description='',\n",
    "    disabled=False,\n",
    "    continuous_update=False,\n",
    "    orientation='vertical',\n",
    "    layout=ipywidgets.Layout(display='flex',\n",
    "                    width='100%'),\n",
    "    readout=False\n",
    ")\n",
    "\n",
    "direction = widgets.SelectionSlider(\n",
    "    options=['left', 'neutral' ,'right'],\n",
    "    value='neutral',\n",
    "    description='',\n",
    "    disabled=False,\n",
    "    continuous_update=False,\n",
    "    orientation='horizontal',\n",
    "    layout=ipywidgets.Layout(display='flex',\n",
    "                    width='100%'),\n",
    "    readout=False\n",
    ")"
   ]
  },
  {
   "cell_type": "markdown",
   "metadata": {
    "deletable": true,
    "editable": true
   },
   "source": [
    "#### Interface - Data"
   ]
  },
  {
   "cell_type": "code",
   "execution_count": 6,
   "metadata": {
    "collapsed": false,
    "deletable": true,
    "editable": true
   },
   "outputs": [],
   "source": [
    "leftMeter = widgets.FloatProgress(\n",
    "    value=0,\n",
    "    min=0,\n",
    "    max=tThresh,\n",
    "    step=0.1,\n",
    "    description='Left Actuator Fatigue',\n",
    "    bar_style='danger',\n",
    "    orientation='vertical',\n",
    "    layout=widgets.Layout(width='150px')\n",
    ")\n",
    "\n",
    "rightMeter = widgets.FloatProgress(\n",
    "    value=0,\n",
    "    min=0,\n",
    "    max=tThresh,\n",
    "    step=0.1,\n",
    "    description='Right Actuator Fatigue',\n",
    "    bar_style='danger',\n",
    "    orientation='vertical',\n",
    "    layout=widgets.Layout(width='150px')\n",
    ")"
   ]
  },
  {
   "cell_type": "markdown",
   "metadata": {
    "deletable": true,
    "editable": true
   },
   "source": [
    "#### Functions"
   ]
  },
  {
   "cell_type": "code",
   "execution_count": 7,
   "metadata": {
    "collapsed": false,
    "deletable": true,
    "editable": true
   },
   "outputs": [],
   "source": [
    "def clicked():\n",
    "    ser.write(\"X\".encode())\n",
    "\n",
    "def exeL():\n",
    "    while (direction_enum[0] == 1 and leftMeter.value < leftMeter.max):\n",
    "        time.sleep(0.1)\n",
    "        leftMeter.value += 0.1\n",
    "        if (leftMeter.value > leftMeter.max*0.7):\n",
    "            leftMeter.bar_style='danger'\n",
    "        else:\n",
    "            leftMeter.bar_style='warning'\n",
    "    direction_enum[0] = 0\n",
    "    direction.value = \"neutral\"\n",
    "    while (direction_enum[0] == 0 and leftMeter.value > leftMeter.min):\n",
    "        time.sleep(0.1)\n",
    "        leftMeter.value -= 0.2\n",
    "        if (leftMeter.value < leftMeter.max*0.3):\n",
    "            leftMeter.bar_style='success'\n",
    "        else:\n",
    "            leftMeter.bar_style='warning'\n",
    "\n",
    "def exeR():\n",
    "    while (direction_enum[1] == 1 and rightMeter.value < rightMeter.max):\n",
    "        time.sleep(0.1)\n",
    "        rightMeter.value += 0.1\n",
    "        if (rightMeter.value > rightMeter.max*0.7):\n",
    "            rightMeter.bar_style='danger'\n",
    "        else:\n",
    "            rightMeter.bar_style='warning'\n",
    "    direction_enum[1] = 0\n",
    "    direction.value = \"neutral\"\n",
    "    while (direction_enum[1] == 0 and rightMeter.value > rightMeter.min):\n",
    "        time.sleep(0.1)\n",
    "        rightMeter.value -= 0.2\n",
    "        if (rightMeter.value < rightMeter.max*0.3):\n",
    "            rightMeter.bar_style='success'\n",
    "        else:\n",
    "            rightMeter.bar_style='warning'\n",
    "\n",
    "def on_command_change(change):\n",
    "    # actuation commands\n",
    "    if (command.value != '' and len(command.value) == 1):\n",
    "        # forward or backward\n",
    "        if (command.value == \"w\"):\n",
    "            if (orientation.value == \"paused\"):\n",
    "                orientation.value = \"forward\"\n",
    "            elif (orientation.value == \"backward\"):\n",
    "                orientation.value = \"paused\"\n",
    "        elif (command.value == \"s\"):\n",
    "            if (orientation.value == \"paused\"):\n",
    "                orientation.value = \"backward\"\n",
    "            elif (orientation.value == \"forward\"):\n",
    "                orientation.value = \"paused\"\n",
    "        # left or right\n",
    "        elif (command.value == \"a\"):\n",
    "            if (direction.value == \"neutral\"):\n",
    "                direction.value = \"left\"\n",
    "                # count running time\n",
    "                direction_enum[0] = 1\n",
    "                lT = threading.Thread(target=exeL, args=())\n",
    "                lT.start()\n",
    "            elif (direction.value == \"right\"):\n",
    "                direction.value = \"neutral\"\n",
    "                direction_enum[1] = 0\n",
    "        elif (command.value == \"d\"):\n",
    "            if (direction.value == \"neutral\"):\n",
    "                direction.value = \"right\"\n",
    "                # count running time\n",
    "                direction_enum[1] = 1\n",
    "                rT = threading.Thread(target=exeR, args=())\n",
    "                rT.start()\n",
    "            elif (direction.value == \"left\"):\n",
    "                direction.value = \"neutral\"\n",
    "                direction_enum[0] = 0\n",
    "        elif (command.value[0] == \":\"):\n",
    "            return\n",
    "        command.value = ''\n",
    "    # other commands have to start with ':'\n",
    "    elif (command.value != '' and command.value[0] != \":\"):\n",
    "        command.value = ''\n",
    "    \n",
    "\n",
    "def on_orientation_change(change):\n",
    "    #if (command.value != ''):\n",
    "    if (orientation.value == \"forward\"):\n",
    "        ser.write(\"f\".encode())\n",
    "    elif (orientation.value == \"backward\"):\n",
    "        ser.write(\"b\".encode())\n",
    "    elif (orientation.value == \"paused\"):\n",
    "        ser.write(\"p\".encode())\n",
    "    \n",
    "def on_direction_change(change):\n",
    "    #if (command.value != ''):\n",
    "    if (direction.value == \"left\"):\n",
    "        ser.write(\"l\".encode())\n",
    "    elif (direction.value == \"right\"):\n",
    "        ser.write(\"r\".encode())\n",
    "    elif (direction.value == \"neutral\"):\n",
    "        ser.write(\"m\".encode())"
   ]
  },
  {
   "cell_type": "markdown",
   "metadata": {
    "deletable": true,
    "editable": true
   },
   "source": [
    "## Setup Communication"
   ]
  },
  {
   "cell_type": "markdown",
   "metadata": {
    "deletable": true,
    "editable": true
   },
   "source": [
    "#### Serial communication "
   ]
  },
  {
   "cell_type": "code",
   "execution_count": 8,
   "metadata": {
    "collapsed": false,
    "deletable": true,
    "editable": true
   },
   "outputs": [],
   "source": [
    "baudrate = 9600 # default, might need to adjust\n",
    "serial_port = '/dev/tty.HC-06-DevB' # connect to the new hc-06 board\n",
    "if will_connect:\n",
    "    ser = serial.Serial(serial_port, baudrate, timeout=1) # open connection"
   ]
  },
  {
   "cell_type": "markdown",
   "metadata": {
    "deletable": true,
    "editable": true
   },
   "source": [
    "#### Receiving from worm"
   ]
  },
  {
   "cell_type": "code",
   "execution_count": 9,
   "metadata": {
    "collapsed": false,
    "deletable": true,
    "editable": true
   },
   "outputs": [],
   "source": [
    "def handle_data(data, text_list):\n",
    "    # print(data)\n",
    "    text_list = text_list[1:]+[time.strftime(\"%Y-%m-%d %H:%M:%S\", time.gmtime())+\"|||\"+data]\n",
    "    display_text = \"\"\n",
    "    for x in text_list:\n",
    "        display_text += x + \"<br>\"\n",
    "    output.value = \"<dir \"+console_style+\">\" + display_text + \"</dir>\"\n",
    "    return text_list\n",
    "\n",
    "def read_from_port(ser):\n",
    "    text_list = [\"-\\n\",\"-\\n\",\"-\\n\",\"-\\n\",\"-\\n\",\"-\\n\",\"-\\n\",\"-\\n\",\"-\\n\",\"-\\n\"]\n",
    "    while True:\n",
    "        reading = ser.readline().decode()\n",
    "        text_list = handle_data(reading, text_list)"
   ]
  },
  {
   "cell_type": "markdown",
   "metadata": {
    "deletable": true,
    "editable": true
   },
   "source": [
    "### Start receiving thread; Display interface"
   ]
  },
  {
   "cell_type": "code",
   "execution_count": 10,
   "metadata": {
    "collapsed": false,
    "deletable": true,
    "editable": true
   },
   "outputs": [],
   "source": [
    "if will_connect:\n",
    "    thread = threading.Thread(target=read_from_port, args=(ser,))\n",
    "    thread.start()"
   ]
  },
  {
   "cell_type": "code",
   "execution_count": 11,
   "metadata": {
    "collapsed": false,
    "deletable": true,
    "editable": true
   },
   "outputs": [
    {
     "data": {
      "application/vnd.jupyter.widget-view+json": {
       "model_id": "eac41b778eaa4855bbb858c339bbc4b4"
      }
     },
     "metadata": {},
     "output_type": "display_data"
    }
   ],
   "source": [
    "B1 = widgets.HBox([leftMeter, orientation, rightMeter])\n",
    "B2 = widgets.HBox([red_button, command, send_button])\n",
    "B3 = widgets.VBox([B1, direction, B2, output])\n",
    "B3.layout=widgets.Layout(width='50%', margin='0 25% 0 25%')\n",
    "B4 = widgets.VBox([B2, output])\n",
    "\n",
    "display(B3)\n",
    "\n",
    "red_button.on_click(clicked)\n",
    "command.observe(on_command_change, names='value')\n",
    "if will_connect:\n",
    "    orientation.observe(on_orientation_change, names='value')\n",
    "    direction.observe(on_direction_change, names='value')"
   ]
  },
  {
   "cell_type": "code",
   "execution_count": null,
   "metadata": {
    "collapsed": true,
    "deletable": true,
    "editable": true
   },
   "outputs": [],
   "source": []
  }
 ],
 "metadata": {
  "kernelspec": {
   "display_name": "Python 3",
   "language": "python",
   "name": "python3"
  },
  "language_info": {
   "codemirror_mode": {
    "name": "ipython",
    "version": 3
   },
   "file_extension": ".py",
   "mimetype": "text/x-python",
   "name": "python",
   "nbconvert_exporter": "python",
   "pygments_lexer": "ipython3",
   "version": "3.6.0"
  }
 },
 "nbformat": 4,
 "nbformat_minor": 2
}
